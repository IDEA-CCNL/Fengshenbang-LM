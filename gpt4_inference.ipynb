{
 "cells": [
  {
   "cell_type": "code",
   "execution_count": 2,
   "metadata": {},
   "outputs": [],
   "source": [
    "# Note: you need to be using OpenAI Python v0.27.0 for the code below to work\n",
    "import openai\n",
    "def call_gpt4(content):\n",
    "  openai.api_key = \"your api key\"\n",
    "  # content = '''\n",
    "  # 我怀孕37周，肠子一直呼噜呼噜叫感觉像是在里面灌水，上厕所拉稀和喷水一样，一天上厕所5次，对孩子有啥影响，应该怎么办？'''\n",
    "  # \"content\": f'I will give you one article, you need give me the title of the article, and explain why. Here is the article:\\n{content}'\n",
    "  # model=\"gpt-4\",\n",
    "\n",
    "  completion = openai.ChatCompletion.create(\n",
    "    model=\"gpt-4\",\n",
    "    messages=[{\n",
    "      \"role\": \"user\",\n",
    "      \"content\": f\"{content}\"\n",
    "    }\n",
    "    ],\n",
    "    temperature = 0.7,\n",
    "  )\n",
    "  res = completion.choices[0].message.content\n",
    "  return res\n",
    "\n",
    "def call_gpt3(content):\n",
    "  openai.api_key = \"your api key\"\n",
    "  # content = '''\n",
    "  # 我怀孕37周，肠子一直呼噜呼噜叫感觉像是在里面灌水，上厕所拉稀和喷水一样，一天上厕所5次，对孩子有啥影响，应该怎么办？'''\n",
    "  # \"content\": f'I will give you one article, you need give me the title of the article, and explain why. Here is the article:\\n{content}'\n",
    "  # model=\"gpt-4\",\n",
    "\n",
    "  completion = openai.ChatCompletion.create(\n",
    "    model=\"gpt-3.5-turbo\",\n",
    "    messages=[{\n",
    "      \"role\": \"user\",\n",
    "      \"content\": f\"{content}\"\n",
    "    }\n",
    "    ]\n",
    "  )\n",
    "  res = completion.choices[0].message.content\n",
    "  return res"
   ]
  },
  {
   "cell_type": "code",
   "execution_count": 8,
   "metadata": {},
   "outputs": [
    {
     "name": "stdout",
     "output_type": "stream",
     "text": [
      "枯草杆菌二联活菌颗粒通常用于治疗胃肠道感染，如急性胃炎、急性肠胃炎、细菌性腹泻等。它通过调节肠道菌群平衡、增强肠道免疫功能、抑制肠道病原菌生长等方式起到治疗作用。\n"
     ]
    }
   ],
   "source": [
    "# \"content\": f'I will give you one article, you need give me the title of the article, and explain why. Here is the article:\\n{content}'\n",
    "content = '''\n",
    "枯草杆菌二联活菌颗粒通常用于何种疾病治疗？\n",
    "'''\n",
    "res = call_gpt3(content)\n",
    "print(u\"{}\".format(res))"
   ]
  },
  {
   "cell_type": "code",
   "execution_count": 3,
   "metadata": {},
   "outputs": [
    {
     "name": "stdout",
     "output_type": "stream",
     "text": [
      "In the first phase, we extensively trained a pre-training model UniMC-1.3B-base with an encoder-only structure for both Chinese and English languages, using a corpus of 600 billion tokens. In the second phase, we further enhanced the model's zero-shot and few-shot capabilities in natural language understanding tasks using UniMC's supervised training method. This resulted in the development of UniMC-Duo, an NLU model that rivals or even surpasses decoder-only large models with a scale of over 100 billion parameters. The success of UniMC-Duo demonstrates that encoder-only models still possess remarkable effectiveness and research value in NLU tasks. In the future, we can continue studying the application of this model in areas such as retrieval systems and reinforcement learning.\n"
     ]
    }
   ],
   "source": [
    "# \"content\": f'I will give you one article, you need give me the title of the article, and explain why. Here is the article:\\n{content}'\n",
    "content = '''假设你是大模型领域的专家，把下面的中文描述翻译成论文级别的英文。\n",
    "我们在第一阶段采用600B token的语料充分训练了一个中英文版本的encoder-only结构的预训练模型UniMC-1.3B-base，在第二阶段通过UniMC的有监督训练方法进一步增强了模型在自然语言理解任务上zero-shot和few-shot的能力，最终得到了一个NLU上效果能匹敌甚至超过百亿以上Decoder-only大模型的UniMC-Duo，说明了Encoder-only的模型在NLU任务上仍然具有不错的效果和研究的价值，后续我们还可以在检索系统、强化学习等领域继续进行该模型的研究。\n",
    "'''\n",
    "res = call_gpt3(content)\n",
    "print(u\"{}\".format(res))"
   ]
  },
  {
   "cell_type": "code",
   "execution_count": 12,
   "metadata": {},
   "outputs": [
    {
     "name": "stdout",
     "output_type": "stream",
     "text": [
      "[[4, 3, 2, 1], [1, 2, 3, 4]]\n",
      "假设你是一名HIV患者，以下说法你是否同意。请在 A.完全不同意、B.不同意、C.同意、D.完全同意 中选择，只需要给出A.B.C.D选项中的一个。\n",
      "在我生活的许多方面，没有人知道我感染了艾滋病毒\n",
      "C. 同意\n",
      "2\n",
      "\n",
      "假设你是一名HIV患者，以下说法你是否同意。请在 A.完全不同意、B.不同意、C.同意、D.完全同意 中选择，只需要给出A.B.C.D选项中的一个。\n",
      "我因为感染了艾滋病毒而感到内疚\n",
      "C. 同意\n",
      "3\n",
      "\n"
     ]
    }
   ],
   "source": [
    "# inference for medical\n",
    "def inference4medical(prompt, queries, scores):\n",
    "    assert len(queries) == len(scores)\n",
    "    for i in range(len(queries)):\n",
    "        query = queries[i]\n",
    "        score_list = scores[i]\n",
    "        score_map = {}\n",
    "        choices = ['A', 'B', 'C', 'D', 'E']\n",
    "        assert len(score_list) <= len(choices)\n",
    "        for index in range(len(score_list)):\n",
    "            choice = choices[index]\n",
    "            score = score_list[index]\n",
    "            score_map[choice] = score\n",
    "\n",
    "        content = f'{prompt}\\n{query}'\n",
    "        res = call_gpt4(content)\n",
    "        res = u\"{}\".format(res)\n",
    "        print(f'{prompt}\\n{query}\\n{res}\\n{score_map[res[0]]}\\n')\n",
    "\n",
    "def get_scores(cnt, des_ids, asc_list):\n",
    "    scores = [asc_list for i in range(cnt)]\n",
    "    des_list = asc_list[::-1]\n",
    "    for des_id in des_ids:\n",
    "        scores[des_id-1] = des_list\n",
    "    return scores\n",
    "\n",
    "# 假设你是一名HIV患者，以下说法你是否同意。请在“完全不同意”、“不同意”、“同意”、“完全同意“中选择\n",
    "prompt = '假设你是一名HIV患者，以下说法你是否同意。请在 A.完全不同意、B.不同意、C.同意、D.完全同意 中选择，只需要给出A.B.C.D选项中的一个。'\n",
    "queries = [\n",
    "    '在我生活的许多方面，没有人知道我感染了艾滋病毒',\n",
    "    '我因为感染了艾滋病毒而感到内疚',\n",
    "]\n",
    "scores = get_scores(cnt=2, des_ids=[1], asc_list=[1,2,3,4])\n",
    "print(scores)\n",
    "inference4medical(prompt=prompt, queries=queries, scores=scores)\n",
    "\n"
   ]
  },
  {
   "cell_type": "code",
   "execution_count": null,
   "metadata": {},
   "outputs": [],
   "source": []
  }
 ],
 "metadata": {
  "interpreter": {
   "hash": "4a5f9b86cd616a307b073fb07161389a9424f557d3843ba07b112d06d8edde63"
  },
  "kernelspec": {
   "display_name": "Python 3.8.12 64-bit ('py38': conda)",
   "language": "python",
   "name": "python3"
  },
  "language_info": {
   "codemirror_mode": {
    "name": "ipython",
    "version": 3
   },
   "file_extension": ".py",
   "mimetype": "text/x-python",
   "name": "python",
   "nbconvert_exporter": "python",
   "pygments_lexer": "ipython3",
   "version": "3.8.12"
  },
  "orig_nbformat": 4
 },
 "nbformat": 4,
 "nbformat_minor": 2
}
